{
 "cells": [
  {
   "cell_type": "code",
   "execution_count": 4,
   "id": "fc77c850",
   "metadata": {},
   "outputs": [],
   "source": [
    "import pandas as pd"
   ]
  },
  {
   "cell_type": "code",
   "execution_count": 33,
   "id": "35b74787",
   "metadata": {},
   "outputs": [],
   "source": [
    "first = r'.\\stats\\2020-21_def_stats.csv'\n",
    "second = r'.\\stats\\2021-22_def_stats.csv'\n",
    "# first = r'.\\stats\\player\\dlillard_2020-21_off_stats.csv'\n",
    "# second = r'.\\stats\\player\\dlillard_2021-22_off_stats.csv'\n",
    "\n",
    "f = pd.read_csv(first)\n",
    "s = pd.read_csv(second)"
   ]
  },
  {
   "cell_type": "code",
   "execution_count": 34,
   "id": "68d1300e",
   "metadata": {},
   "outputs": [],
   "source": [
    "frames = [f, s]\n",
    "result = pd.concat(frames)\n",
    "\n",
    "result.to_csv(r'.\\stats\\combined.csv', index=False)\n",
    "# result.to_csv(r'.\\stats\\player\\combined.csv', index=False)"
   ]
  }
 ],
 "metadata": {
  "kernelspec": {
   "display_name": "Python 3 (ipykernel)",
   "language": "python",
   "name": "python3"
  },
  "language_info": {
   "codemirror_mode": {
    "name": "ipython",
    "version": 3
   },
   "file_extension": ".py",
   "mimetype": "text/x-python",
   "name": "python",
   "nbconvert_exporter": "python",
   "pygments_lexer": "ipython3",
   "version": "3.9.7"
  }
 },
 "nbformat": 4,
 "nbformat_minor": 5
}
