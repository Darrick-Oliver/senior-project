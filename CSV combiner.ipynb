{
 "cells": [
  {
   "cell_type": "code",
   "execution_count": 1,
   "id": "fc77c850",
   "metadata": {},
   "outputs": [],
   "source": [
    "import pandas as pd"
   ]
  },
  {
   "cell_type": "code",
   "execution_count": 2,
   "id": "62b99165",
   "metadata": {},
   "outputs": [],
   "source": [
    "def player_combiner(player, season1, season2):\n",
    "    s1 = season1 # Copy season number to loop over\n",
    "\n",
    "    data = pd.read_csv(r'.\\stats\\player\\\\' + player + '_' + s1 + '_off_stats.csv')\n",
    "    s1 = str(int(s1[0:4]) + 1) + '-' + str(int(s1[5:7]) + 1)\n",
    "\n",
    "    # Loop over seasons, append data\n",
    "    while s1 != season2:\n",
    "        combine = pd.read_csv(r'.\\stats\\player\\\\' + player + '_' + s1 + '_off_stats.csv')\n",
    "        data = data.append(combine, ignore_index = True)\n",
    "\n",
    "        s1 = str(int(s1[0:4]) + 1) + '-' + str(int(s1[5:7]) + 1)\n",
    "\n",
    "    # Check if only 1 season\n",
    "    if season1 != season2:\n",
    "        combine = pd.read_csv(r'.\\stats\\player\\\\' + player + '_' + season2 + '_off_stats.csv')\n",
    "        data = data.append(combine, ignore_index = True)\n",
    "    \n",
    "    return data"
   ]
  },
  {
   "cell_type": "code",
   "execution_count": 3,
   "id": "23ad2224",
   "metadata": {},
   "outputs": [],
   "source": [
    "def defense_combiner(season1, season2):\n",
    "    s1 = season1 # Copy season number to loop over\n",
    "\n",
    "    data = pd.read_csv(r'.\\stats\\\\' + s1 + '_def_stats.csv')\n",
    "    s1 = str(int(s1[0:4]) + 1) + '-' + str(int(s1[5:7]) + 1)\n",
    "\n",
    "    # Loop over seasons, append data\n",
    "    while s1 != season2:\n",
    "        combine = pd.read_csv(r'.\\stats\\\\' + s1 + '_def_stats.csv')\n",
    "        data = data.append(combine, ignore_index = True)\n",
    "\n",
    "        s1 = str(int(s1[0:4]) + 1) + '-' + str(int(s1[5:7]) + 1)\n",
    "\n",
    "    # Check if only 1 season\n",
    "    if season1 != season2:\n",
    "        combine = pd.read_csv(r'.\\stats\\\\' + season2 + '_def_stats.csv')\n",
    "        data = data.append(combine, ignore_index = True)\n",
    "    \n",
    "    return data"
   ]
  },
  {
   "cell_type": "code",
   "execution_count": 4,
   "id": "0a6a87ca",
   "metadata": {},
   "outputs": [],
   "source": [
    "def offense_combiner(dataset, percentile, season1, season2):\n",
    "    s1 = season1 # Copy season number to loop over\n",
    "\n",
    "    data = pd.read_csv(r'.\\stats\\\\' + s1 + '_' + percentile + '_' + dataset + '_stats.csv')\n",
    "    s1 = str(int(s1[0:4]) + 1) + '-' + str(int(s1[5:7]) + 1)\n",
    "\n",
    "    # Loop over seasons, append data\n",
    "    while s1 != season2:\n",
    "        combine = pd.read_csv(r'.\\stats\\\\' + s1 + '_' + percentile + '_' + dataset + '_stats.csv')\n",
    "        data = data.append(combine, ignore_index = True)\n",
    "\n",
    "        s1 = str(int(s1[0:4]) + 1) + '-' + str(int(s1[5:7]) + 1)\n",
    "\n",
    "    # Check if only 1 season\n",
    "    if season1 != season2:\n",
    "        combine = pd.read_csv(r'.\\stats\\\\' + season2 + '_' + percentile + '_' + dataset + '_stats.csv')\n",
    "        data = data.append(combine, ignore_index = True)\n",
    "    \n",
    "    return data"
   ]
  },
  {
   "cell_type": "code",
   "execution_count": 11,
   "id": "bd3de087",
   "metadata": {},
   "outputs": [],
   "source": [
    "def train_combiner(io, season1, season2):\n",
    "    s1 = season1 # Copy season number to loop over\n",
    "\n",
    "    data = pd.read_csv(r'.\\stats\\cleaned\\\\' + s1 + '_' + io + '.csv')\n",
    "    s1 = str(int(s1[0:4]) + 1) + '-' + str(int(s1[5:7]) + 1)\n",
    "\n",
    "    # Loop over seasons, append data\n",
    "    while s1 != season2:\n",
    "        combine = pd.read_csv(r'.\\stats\\cleaned\\\\' + s1 + '_' + io + '.csv')\n",
    "        data = data.append(combine, ignore_index = True)\n",
    "\n",
    "        s1 = str(int(s1[0:4]) + 1) + '-' + str(int(s1[5:7]) + 1)\n",
    "\n",
    "    # Check if only 1 season\n",
    "    if season1 != season2:\n",
    "        combine = pd.read_csv(r'.\\stats\\cleaned\\\\' + season2 + '_' + io + '.csv')\n",
    "        data = data.append(combine, ignore_index = True)\n",
    "    \n",
    "    return data"
   ]
  },
  {
   "cell_type": "code",
   "execution_count": 13,
   "id": "35b74787",
   "metadata": {},
   "outputs": [
    {
     "name": "stdout",
     "output_type": "stream",
     "text": [
      "CSV title: y\n",
      "From season (i.e. 2020-21): 2019-20\n",
      "To season (i.e. 2021-22): 2021-22\n"
     ]
    }
   ],
   "source": [
    "csv_title = input('CSV title: ')\n",
    "season1 = input('From season (i.e. 2020-21): ')\n",
    "season2 = input('To season (i.e. 2021-22): ')\n",
    "\n",
    "if (csv_title == 'def'):\n",
    "    data = defense_combiner(season1, season2)\n",
    "    data.to_csv(r'.\\stats\\def_combined.csv', index=False)\n",
    "elif (csv_title == 'off'):\n",
    "    percentile = input('Percentile: ')\n",
    "    data = offense_combiner(csv_title, percentile, season1, season2)\n",
    "    data.to_csv(r'.\\stats\\off_combined.csv', index=False)\n",
    "elif (csv_title == 'h2h'):\n",
    "    percentile = input('Percentile: ')\n",
    "    data = offense_combiner(csv_title, percentile, season1, season2)\n",
    "    data.to_csv(r'.\\stats\\h2h_combined.csv', index=False)\n",
    "elif (csv_title == 'X' or csv_title == 'y'):\n",
    "    data = train_combiner(csv_title, season1, season2)\n",
    "    data.to_csv(r'.\\stats\\cleaned\\\\' + csv_title + '_combined.csv', index=False)\n",
    "else:\n",
    "    data = player_combiner(csv_title, season1, season2)\n",
    "    data.to_csv(r'.\\stats\\player\\\\' + csv_title + '_combined.csv', index=False)"
   ]
  }
 ],
 "metadata": {
  "kernelspec": {
   "display_name": "Python 3 (ipykernel)",
   "language": "python",
   "name": "python3"
  },
  "language_info": {
   "codemirror_mode": {
    "name": "ipython",
    "version": 3
   },
   "file_extension": ".py",
   "mimetype": "text/x-python",
   "name": "python",
   "nbconvert_exporter": "python",
   "pygments_lexer": "ipython3",
   "version": "3.9.7"
  }
 },
 "nbformat": 4,
 "nbformat_minor": 5
}
