{
 "cells": [
  {
   "cell_type": "code",
   "execution_count": 16,
   "id": "1b9c861f",
   "metadata": {},
   "outputs": [],
   "source": [
    "import pandas as pd\n",
    "import requests\n",
    "import json"
   ]
  },
  {
   "cell_type": "code",
   "execution_count": 54,
   "id": "3ddff594",
   "metadata": {},
   "outputs": [],
   "source": [
    "loc = 'C:\\\\Users\\\\Darrick\\\\Documents\\\\Jupyter\\\\senior-project\\\\stats\\\\'\n",
    "season = '2016-17'"
   ]
  },
  {
   "cell_type": "markdown",
   "id": "ddac1946",
   "metadata": {},
   "source": [
    "# Basic Defensive Statistics\n",
    "\n",
    "Gets basic defense stats from nba.com"
   ]
  },
  {
   "cell_type": "code",
   "execution_count": 55,
   "id": "836cba6f",
   "metadata": {},
   "outputs": [],
   "source": [
    "headers = {\n",
    "    'Accept': 'application/json, text/plain, */*',\n",
    "    'User-Agent': 'Mozilla/5.0 (Windows NT 10.0; Win64; x64) AppleWebKit/537.36 (KHTML, like Gecko) Chrome/97.0.4692.71 Safari/537.36',\n",
    "    'x-nba-stats-origin': 'stats',\n",
    "    'Sec-Fetch-Site': 'same-site',\n",
    "    'Sec-Fetch-Mode': 'cors',\n",
    "    'Referer': 'https://www.nba.com/'\n",
    "}\n",
    "\n",
    "# Retrieve both defensive dashboard and defensive impact\n",
    "r_dd = requests.get('https://stats.nba.com/stats/leaguedashptdefend?College=&Conference=&Country=&DateFrom=&DateTo=&DefenseCategory=Overall&Division=&DraftPick=&DraftYear=&GameSegment=&Height=&LastNGames=0&LeagueID=00&Location=&Month=0&OpponentTeamID=0&Outcome=&PORound=0&PerMode=PerGame&Period=0&PlayerExperience=&PlayerPosition=&Season=' + season + '&SeasonSegment=&SeasonType=Regular+Season&StarterBench=&TeamID=0&VsConference=&VsDivision=&Weight=', headers=headers, timeout=10)\n",
    "r_di = requests.get('https://stats.nba.com/stats/leaguedashptstats?College=&Conference=&Country=&DateFrom=&DateTo=&Division=&DraftPick=&DraftYear=&GameScope=&Height=&LastNGames=0&LeagueID=00&Location=&Month=0&OpponentTeamID=0&Outcome=&PORound=0&PerMode=PerGame&PlayerExperience=&PlayerOrTeam=Player&PlayerPosition=&PtMeasureType=Defense&Season=' + season + '&SeasonSegment=&SeasonType=Regular+Season&StarterBench=&TeamID=0&VsConference=&VsDivision=&Weight=', headers=headers, timeout=10)"
   ]
  },
  {
   "cell_type": "code",
   "execution_count": 56,
   "id": "7f53180b",
   "metadata": {},
   "outputs": [],
   "source": [
    "r_dd_dict = json.loads(r_dd.content)\n",
    "r_di_dict = json.loads(r_di.content)\n",
    "\n",
    "dd_df = pd.DataFrame(data=r_dd_dict['resultSets'][0]['rowSet'], columns=r_dd_dict['resultSets'][0]['headers'])\n",
    "di_df = pd.DataFrame(data=r_di_dict['resultSets'][0]['rowSet'], columns=r_di_dict['resultSets'][0]['headers'])\n",
    "\n",
    "dd_df.sort_values(by='PLAYER_NAME', inplace=True)\n",
    "di_df.sort_values(by='PLAYER_NAME', inplace=True)"
   ]
  },
  {
   "cell_type": "code",
   "execution_count": 57,
   "id": "151c46c6",
   "metadata": {},
   "outputs": [
    {
     "data": {
      "text/html": [
       "<div>\n",
       "<style scoped>\n",
       "    .dataframe tbody tr th:only-of-type {\n",
       "        vertical-align: middle;\n",
       "    }\n",
       "\n",
       "    .dataframe tbody tr th {\n",
       "        vertical-align: top;\n",
       "    }\n",
       "\n",
       "    .dataframe thead th {\n",
       "        text-align: right;\n",
       "    }\n",
       "</style>\n",
       "<table border=\"1\" class=\"dataframe\">\n",
       "  <thead>\n",
       "    <tr style=\"text-align: right;\">\n",
       "      <th></th>\n",
       "      <th>PLAYER_ID</th>\n",
       "      <th>PLAYER_NAME</th>\n",
       "      <th>AGE</th>\n",
       "      <th>GP</th>\n",
       "      <th>G</th>\n",
       "      <th>D_FGM</th>\n",
       "      <th>D_FGA</th>\n",
       "      <th>D_FG_PCT</th>\n",
       "      <th>NORMAL_FG_PCT</th>\n",
       "      <th>PCT_PLUSMINUS</th>\n",
       "      <th>W</th>\n",
       "      <th>L</th>\n",
       "      <th>MIN</th>\n",
       "      <th>STL</th>\n",
       "      <th>BLK</th>\n",
       "      <th>DREB</th>\n",
       "    </tr>\n",
       "  </thead>\n",
       "  <tbody>\n",
       "    <tr>\n",
       "      <th>423</th>\n",
       "      <td>1627773</td>\n",
       "      <td>AJ Hammons</td>\n",
       "      <td>24.0</td>\n",
       "      <td>17</td>\n",
       "      <td>17</td>\n",
       "      <td>1.76</td>\n",
       "      <td>3.71</td>\n",
       "      <td>0.476</td>\n",
       "      <td>0.481</td>\n",
       "      <td>-0.004</td>\n",
       "      <td>27.0</td>\n",
       "      <td>27.0</td>\n",
       "      <td>14.8</td>\n",
       "      <td>0.3</td>\n",
       "      <td>0.6</td>\n",
       "      <td>2.8</td>\n",
       "    </tr>\n",
       "    <tr>\n",
       "      <th>375</th>\n",
       "      <td>201166</td>\n",
       "      <td>Aaron Brooks</td>\n",
       "      <td>32.0</td>\n",
       "      <td>61</td>\n",
       "      <td>61</td>\n",
       "      <td>2.21</td>\n",
       "      <td>4.80</td>\n",
       "      <td>0.461</td>\n",
       "      <td>0.434</td>\n",
       "      <td>0.027</td>\n",
       "      <td>4.0</td>\n",
       "      <td>5.0</td>\n",
       "      <td>9.4</td>\n",
       "      <td>0.2</td>\n",
       "      <td>0.0</td>\n",
       "      <td>0.9</td>\n",
       "    </tr>\n",
       "    <tr>\n",
       "      <th>141</th>\n",
       "      <td>203932</td>\n",
       "      <td>Aaron Gordon</td>\n",
       "      <td>21.0</td>\n",
       "      <td>80</td>\n",
       "      <td>80</td>\n",
       "      <td>3.93</td>\n",
       "      <td>8.99</td>\n",
       "      <td>0.437</td>\n",
       "      <td>0.455</td>\n",
       "      <td>-0.019</td>\n",
       "      <td>1.0</td>\n",
       "      <td>1.0</td>\n",
       "      <td>11.6</td>\n",
       "      <td>0.0</td>\n",
       "      <td>0.0</td>\n",
       "      <td>1.5</td>\n",
       "    </tr>\n",
       "    <tr>\n",
       "      <th>481</th>\n",
       "      <td>1626151</td>\n",
       "      <td>Aaron Harrison</td>\n",
       "      <td>22.0</td>\n",
       "      <td>4</td>\n",
       "      <td>4</td>\n",
       "      <td>0.75</td>\n",
       "      <td>1.25</td>\n",
       "      <td>0.600</td>\n",
       "      <td>0.304</td>\n",
       "      <td>0.296</td>\n",
       "      <td>34.0</td>\n",
       "      <td>36.0</td>\n",
       "      <td>30.9</td>\n",
       "      <td>0.7</td>\n",
       "      <td>0.4</td>\n",
       "      <td>5.0</td>\n",
       "    </tr>\n",
       "    <tr>\n",
       "      <th>441</th>\n",
       "      <td>203940</td>\n",
       "      <td>Adreian Payne</td>\n",
       "      <td>26.0</td>\n",
       "      <td>17</td>\n",
       "      <td>17</td>\n",
       "      <td>1.47</td>\n",
       "      <td>3.35</td>\n",
       "      <td>0.439</td>\n",
       "      <td>0.449</td>\n",
       "      <td>-0.010</td>\n",
       "      <td>1.0</td>\n",
       "      <td>7.0</td>\n",
       "      <td>9.5</td>\n",
       "      <td>0.1</td>\n",
       "      <td>0.1</td>\n",
       "      <td>1.8</td>\n",
       "    </tr>\n",
       "  </tbody>\n",
       "</table>\n",
       "</div>"
      ],
      "text/plain": [
       "     PLAYER_ID     PLAYER_NAME   AGE  GP   G  D_FGM  D_FGA  D_FG_PCT  \\\n",
       "423    1627773      AJ Hammons  24.0  17  17   1.76   3.71     0.476   \n",
       "375     201166    Aaron Brooks  32.0  61  61   2.21   4.80     0.461   \n",
       "141     203932    Aaron Gordon  21.0  80  80   3.93   8.99     0.437   \n",
       "481    1626151  Aaron Harrison  22.0   4   4   0.75   1.25     0.600   \n",
       "441     203940   Adreian Payne  26.0  17  17   1.47   3.35     0.439   \n",
       "\n",
       "     NORMAL_FG_PCT  PCT_PLUSMINUS     W     L   MIN  STL  BLK  DREB  \n",
       "423          0.481         -0.004  27.0  27.0  14.8  0.3  0.6   2.8  \n",
       "375          0.434          0.027   4.0   5.0   9.4  0.2  0.0   0.9  \n",
       "141          0.455         -0.019   1.0   1.0  11.6  0.0  0.0   1.5  \n",
       "481          0.304          0.296  34.0  36.0  30.9  0.7  0.4   5.0  \n",
       "441          0.449         -0.010   1.0   7.0   9.5  0.1  0.1   1.8  "
      ]
     },
     "execution_count": 57,
     "metadata": {},
     "output_type": "execute_result"
    }
   ],
   "source": [
    "# Remove players not in both dataframes\n",
    "diff = list(set(di_df['PLAYER_ID'].tolist()) - set(dd_df['CLOSE_DEF_PERSON_ID'].tolist()))\n",
    "\n",
    "di_df = di_df[~di_df['PLAYER_ID'].isin(diff)]\n",
    "\n",
    "# Combine dataframes\n",
    "def_data = dd_df.join(di_df[di_df.columns[5:11]])\n",
    "\n",
    "# Drop unnecessary columns\n",
    "def_data.drop(columns=['PLAYER_LAST_TEAM_ID', 'PLAYER_LAST_TEAM_ABBREVIATION', 'PLAYER_POSITION', 'FREQ'], inplace=True)\n",
    "def_data.rename(columns={'CLOSE_DEF_PERSON_ID' : 'PLAYER_ID'}, inplace=True)\n",
    "\n",
    "def_data.head()"
   ]
  },
  {
   "cell_type": "markdown",
   "id": "095691ae",
   "metadata": {},
   "source": [
    "# Hustle Statistics\n",
    "\n",
    "Gets contested shots (2p and 3p), deflections, charges drawn, defensive boxouts, %boxout"
   ]
  },
  {
   "cell_type": "code",
   "execution_count": 58,
   "id": "ebe8d019",
   "metadata": {},
   "outputs": [],
   "source": [
    "r = requests.get('https://stats.nba.com/stats/leaguehustlestatsplayer?College=&Conference=&Country=&DateFrom=&DateTo=&Division=&DraftPick=&DraftYear=&GameScope=&Height=&LastNGames=0&LeagueID=00&Location=&Month=0&OpponentTeamID=0&Outcome=&PORound=0&PaceAdjust=N&PerMode=PerGame&PlayerExperience=&PlayerPosition=&PlusMinus=N&Rank=N&Season=' + season + '&SeasonSegment=&SeasonType=Regular+Season&TeamID=0&VsConference=&VsDivision=&Weight=', headers=headers, timeout=10)"
   ]
  },
  {
   "cell_type": "code",
   "execution_count": 59,
   "id": "006742c4",
   "metadata": {},
   "outputs": [
    {
     "data": {
      "text/plain": [
       "Index(['PLAYER_ID', 'PLAYER_NAME', 'AGE', 'GP', 'G', 'D_FGM', 'D_FGA',\n",
       "       'D_FG_PCT', 'NORMAL_FG_PCT', 'PCT_PLUSMINUS', 'W', 'L', 'MIN', 'STL',\n",
       "       'BLK', 'DREB', 'CONTESTED_SHOTS', 'CONTESTED_SHOTS_2PT',\n",
       "       'CONTESTED_SHOTS_3PT', 'DEFLECTIONS', 'CHARGES_DRAWN', 'DEF_BOXOUTS',\n",
       "       'PCT_BOX_OUTS_REB', 'SEASON_ID'],\n",
       "      dtype='object')"
      ]
     },
     "execution_count": 59,
     "metadata": {},
     "output_type": "execute_result"
    }
   ],
   "source": [
    "r_dict = json.loads(r.content)\n",
    "\n",
    "df = pd.DataFrame(data=r_dict['resultSets'][0]['rowSet'], columns=r_dict['resultSets'][0]['headers'])\n",
    "df.drop(columns=['TEAM_ID', 'TEAM_ABBREVIATION', 'AGE', 'G', 'MIN',\n",
    "                'SCREEN_AST_PTS', 'SCREEN_ASSISTS', 'OFF_LOOSE_BALLS_RECOVERED', 'DEF_LOOSE_BALLS_RECOVERED',\n",
    "                'LOOSE_BALLS_RECOVERED', 'PCT_LOOSE_BALLS_RECOVERED_OFF', 'PCT_LOOSE_BALLS_RECOVERED_DEF',\n",
    "                'OFF_BOXOUTS', 'BOX_OUTS', 'BOX_OUT_PLAYER_TEAM_REBS', 'BOX_OUT_PLAYER_REBS', 'PCT_BOX_OUTS_OFF',\n",
    "                'PCT_BOX_OUTS_DEF', 'PCT_BOX_OUTS_TEAM_REB'], inplace=True)\n",
    "\n",
    "# Remove players not in df\n",
    "diff = list(set(df['PLAYER_ID'].tolist()) - set(def_data['PLAYER_ID'].tolist()))\n",
    "df = df[~df['PLAYER_ID'].isin(diff)]\n",
    "df.sort_values(by='PLAYER_NAME', inplace=True)\n",
    "\n",
    "# Insert hustle data\n",
    "def_data = def_data.join(df[df.columns[2:]])\n",
    "\n",
    "# Set season ID\n",
    "def_data['SEASON_ID'] = '220' + season[2:4]\n",
    "\n",
    "def_data.columns"
   ]
  },
  {
   "cell_type": "markdown",
   "id": "df27570d",
   "metadata": {},
   "source": [
    "# Defensive Ratings"
   ]
  },
  {
   "cell_type": "code",
   "execution_count": 60,
   "id": "889ab44b",
   "metadata": {},
   "outputs": [],
   "source": [
    "r = requests.get('https://stats.nba.com/stats/leaguedashplayerstats?College=&Conference=&Country=&DateFrom=&DateTo=&Division=&DraftPick=&DraftYear=&GameScope=&GameSegment=&Height=&LastNGames=0&LeagueID=00&Location=&MeasureType=Defense&Month=0&OpponentTeamID=0&Outcome=&PORound=0&PaceAdjust=N&PerMode=PerGame&Period=0&PlayerExperience=&PlayerPosition=&PlusMinus=N&Rank=N&Season=' + season + '&SeasonSegment=&SeasonType=Regular+Season&ShotClockRange=&StarterBench=&TeamID=0&TwoWay=0&VsConference=&VsDivision=&Weight=', headers=headers, timeout=10)"
   ]
  },
  {
   "cell_type": "code",
   "execution_count": 61,
   "id": "9d1796f1",
   "metadata": {},
   "outputs": [
    {
     "data": {
      "text/plain": [
       "(484, 33)"
      ]
     },
     "execution_count": 61,
     "metadata": {},
     "output_type": "execute_result"
    }
   ],
   "source": [
    "r_dict = json.loads(r.content)\n",
    "\n",
    "df = pd.DataFrame(data=r_dict['resultSets'][0]['rowSet'], columns=r_dict['resultSets'][0]['headers'])\n",
    "df.drop(columns=['NICKNAME', 'TEAM_ID', 'TEAM_ABBREVIATION', 'AGE', 'GP', 'W', 'L', 'W_PCT', 'MIN', 'DREB', 'PCT_DREB', 'STL',\n",
    "        'BLK', 'GP_RANK', 'W_RANK', 'L_RANK', 'W_PCT_RANK', 'MIN_RANK', 'DEF_RATING_RANK', 'DREB_RANK', 'DREB_PCT_RANK',\n",
    "        'PCT_DREB_RANK', 'STL_RANK', 'PCT_STL_RANK', 'BLK_RANK', 'PCT_BLK_RANK', 'OPP_PTS_OFF_TOV_RANK',\n",
    "        'OPP_PTS_2ND_CHANCE_RANK', 'OPP_PTS_FB_RANK', 'OPP_PTS_PAINT_RANK', 'DEF_WS_RANK', 'CFID', 'CFPARAMS'], inplace=True)\n",
    "diff = list(set(df['PLAYER_ID'].tolist()) - set(def_data['PLAYER_ID'].tolist()))\n",
    "df = df[~df['PLAYER_ID'].isin(diff)]\n",
    "\n",
    "df.sort_values(by='PLAYER_NAME', inplace=True)\n",
    "\n",
    "# Insert rating data\n",
    "def_data = def_data.join(df[df.columns[2:]])\n",
    "\n",
    "def_data.shape"
   ]
  },
  {
   "cell_type": "code",
   "execution_count": 62,
   "id": "601e2d55",
   "metadata": {},
   "outputs": [],
   "source": [
    "def_data.to_csv(loc + season + '_def_stats.csv', index=False)"
   ]
  }
 ],
 "metadata": {
  "kernelspec": {
   "display_name": "Python 3 (ipykernel)",
   "language": "python",
   "name": "python3"
  },
  "language_info": {
   "codemirror_mode": {
    "name": "ipython",
    "version": 3
   },
   "file_extension": ".py",
   "mimetype": "text/x-python",
   "name": "python",
   "nbconvert_exporter": "python",
   "pygments_lexer": "ipython3",
   "version": "3.9.7"
  }
 },
 "nbformat": 4,
 "nbformat_minor": 5
}
