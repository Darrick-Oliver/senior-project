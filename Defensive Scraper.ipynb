{
 "cells": [
  {
   "cell_type": "code",
   "execution_count": 6,
   "id": "1b9c861f",
   "metadata": {},
   "outputs": [],
   "source": [
    "import pandas as pd\n",
    "import requests\n",
    "import json"
   ]
  },
  {
   "cell_type": "code",
   "execution_count": 47,
   "id": "3ddff594",
   "metadata": {},
   "outputs": [],
   "source": [
    "loc = 'C:\\\\Users\\\\Darrick\\\\Documents\\\\Jupyter\\\\senior-project\\\\stats\\\\'\n",
    "season = '2020-21'"
   ]
  },
  {
   "cell_type": "code",
   "execution_count": 48,
   "id": "836cba6f",
   "metadata": {},
   "outputs": [],
   "source": [
    "headers = {\n",
    "    'Accept': 'application/json, text/plain, */*',\n",
    "    'User-Agent': 'Mozilla/5.0 (Windows NT 10.0; Win64; x64) AppleWebKit/537.36 (KHTML, like Gecko) Chrome/97.0.4692.71 Safari/537.36',\n",
    "    'x-nba-stats-origin': 'stats',\n",
    "    'Sec-Fetch-Site': 'same-site',\n",
    "    'Sec-Fetch-Mode': 'cors',\n",
    "    'Referer': 'https://www.nba.com/'\n",
    "}\n",
    "\n",
    "# Retrieve both defensive dashboard and defensive impact\n",
    "r_dd = requests.get('https://stats.nba.com/stats/leaguedashptdefend?College=&Conference=&Country=&DateFrom=&DateTo=&DefenseCategory=Overall&Division=&DraftPick=&DraftYear=&GameSegment=&Height=&LastNGames=0&LeagueID=00&Location=&Month=0&OpponentTeamID=0&Outcome=&PORound=0&PerMode=PerGame&Period=0&PlayerExperience=&PlayerPosition=&Season=' + season + '&SeasonSegment=&SeasonType=Regular+Season&StarterBench=&TeamID=0&VsConference=&VsDivision=&Weight=', headers=headers, timeout=10)\n",
    "r_di = requests.get('https://stats.nba.com/stats/leaguedashptstats?College=&Conference=&Country=&DateFrom=&DateTo=&Division=&DraftPick=&DraftYear=&GameScope=&Height=&LastNGames=0&LeagueID=00&Location=&Month=0&OpponentTeamID=0&Outcome=&PORound=0&PerMode=PerGame&PlayerExperience=&PlayerOrTeam=Player&PlayerPosition=&PtMeasureType=Defense&Season=' + season + '&SeasonSegment=&SeasonType=Regular+Season&StarterBench=&TeamID=0&VsConference=&VsDivision=&Weight=', headers=headers, timeout=10)"
   ]
  },
  {
   "cell_type": "code",
   "execution_count": 49,
   "id": "7f53180b",
   "metadata": {},
   "outputs": [],
   "source": [
    "r_dd_dict = json.loads(r_dd.content)\n",
    "r_di_dict = json.loads(r_di.content)\n",
    "\n",
    "dd_df = pd.DataFrame(data=r_dd_dict['resultSets'][0]['rowSet'], columns=r_dd_dict['resultSets'][0]['headers'])\n",
    "di_df = pd.DataFrame(data=r_di_dict['resultSets'][0]['rowSet'], columns=r_di_dict['resultSets'][0]['headers'])\n",
    "\n",
    "dd_df.sort_values(by='PLAYER_NAME', inplace=True)\n",
    "di_df.sort_values(by='PLAYER_NAME', inplace=True)"
   ]
  },
  {
   "cell_type": "code",
   "execution_count": 50,
   "id": "151c46c6",
   "metadata": {},
   "outputs": [
    {
     "data": {
      "text/html": [
       "<div>\n",
       "<style scoped>\n",
       "    .dataframe tbody tr th:only-of-type {\n",
       "        vertical-align: middle;\n",
       "    }\n",
       "\n",
       "    .dataframe tbody tr th {\n",
       "        vertical-align: top;\n",
       "    }\n",
       "\n",
       "    .dataframe thead th {\n",
       "        text-align: right;\n",
       "    }\n",
       "</style>\n",
       "<table border=\"1\" class=\"dataframe\">\n",
       "  <thead>\n",
       "    <tr style=\"text-align: right;\">\n",
       "      <th></th>\n",
       "      <th>PLAYER_ID</th>\n",
       "      <th>PLAYER_NAME</th>\n",
       "      <th>AGE</th>\n",
       "      <th>GP</th>\n",
       "      <th>G</th>\n",
       "      <th>D_FGM</th>\n",
       "      <th>D_FGA</th>\n",
       "      <th>D_FG_PCT</th>\n",
       "      <th>NORMAL_FG_PCT</th>\n",
       "      <th>PCT_PLUSMINUS</th>\n",
       "      <th>W</th>\n",
       "      <th>L</th>\n",
       "      <th>MIN</th>\n",
       "      <th>STL</th>\n",
       "      <th>BLK</th>\n",
       "      <th>DREB</th>\n",
       "    </tr>\n",
       "  </thead>\n",
       "  <tbody>\n",
       "    <tr>\n",
       "      <th>172</th>\n",
       "      <td>203932</td>\n",
       "      <td>Aaron Gordon</td>\n",
       "      <td>25.0</td>\n",
       "      <td>50</td>\n",
       "      <td>50</td>\n",
       "      <td>4.64</td>\n",
       "      <td>10.08</td>\n",
       "      <td>0.460</td>\n",
       "      <td>0.471</td>\n",
       "      <td>-0.011</td>\n",
       "      <td>7.0</td>\n",
       "      <td>13.0</td>\n",
       "      <td>19.6</td>\n",
       "      <td>0.7</td>\n",
       "      <td>1.0</td>\n",
       "      <td>2.8</td>\n",
       "    </tr>\n",
       "    <tr>\n",
       "      <th>300</th>\n",
       "      <td>1628988</td>\n",
       "      <td>Aaron Holiday</td>\n",
       "      <td>24.0</td>\n",
       "      <td>65</td>\n",
       "      <td>65</td>\n",
       "      <td>3.60</td>\n",
       "      <td>7.74</td>\n",
       "      <td>0.465</td>\n",
       "      <td>0.452</td>\n",
       "      <td>0.013</td>\n",
       "      <td>22.0</td>\n",
       "      <td>21.0</td>\n",
       "      <td>31.8</td>\n",
       "      <td>1.1</td>\n",
       "      <td>0.3</td>\n",
       "      <td>3.6</td>\n",
       "    </tr>\n",
       "    <tr>\n",
       "      <th>380</th>\n",
       "      <td>1630174</td>\n",
       "      <td>Aaron Nesmith</td>\n",
       "      <td>21.0</td>\n",
       "      <td>38</td>\n",
       "      <td>38</td>\n",
       "      <td>2.74</td>\n",
       "      <td>6.03</td>\n",
       "      <td>0.454</td>\n",
       "      <td>0.458</td>\n",
       "      <td>-0.004</td>\n",
       "      <td>41.0</td>\n",
       "      <td>28.0</td>\n",
       "      <td>22.9</td>\n",
       "      <td>0.7</td>\n",
       "      <td>0.7</td>\n",
       "      <td>3.9</td>\n",
       "    </tr>\n",
       "    <tr>\n",
       "      <th>367</th>\n",
       "      <td>1627846</td>\n",
       "      <td>Abdel Nader</td>\n",
       "      <td>27.0</td>\n",
       "      <td>21</td>\n",
       "      <td>21</td>\n",
       "      <td>2.86</td>\n",
       "      <td>6.19</td>\n",
       "      <td>0.462</td>\n",
       "      <td>0.453</td>\n",
       "      <td>0.008</td>\n",
       "      <td>20.0</td>\n",
       "      <td>19.0</td>\n",
       "      <td>7.2</td>\n",
       "      <td>0.2</td>\n",
       "      <td>0.3</td>\n",
       "      <td>1.2</td>\n",
       "    </tr>\n",
       "    <tr>\n",
       "      <th>524</th>\n",
       "      <td>1629690</td>\n",
       "      <td>Adam Mokoka</td>\n",
       "      <td>22.0</td>\n",
       "      <td>6</td>\n",
       "      <td>6</td>\n",
       "      <td>0.67</td>\n",
       "      <td>1.83</td>\n",
       "      <td>0.364</td>\n",
       "      <td>0.465</td>\n",
       "      <td>-0.101</td>\n",
       "      <td>28.0</td>\n",
       "      <td>13.0</td>\n",
       "      <td>6.9</td>\n",
       "      <td>0.3</td>\n",
       "      <td>0.0</td>\n",
       "      <td>1.0</td>\n",
       "    </tr>\n",
       "  </tbody>\n",
       "</table>\n",
       "</div>"
      ],
      "text/plain": [
       "     PLAYER_ID    PLAYER_NAME   AGE  GP   G  D_FGM  D_FGA  D_FG_PCT  \\\n",
       "172     203932   Aaron Gordon  25.0  50  50   4.64  10.08     0.460   \n",
       "300    1628988  Aaron Holiday  24.0  65  65   3.60   7.74     0.465   \n",
       "380    1630174  Aaron Nesmith  21.0  38  38   2.74   6.03     0.454   \n",
       "367    1627846    Abdel Nader  27.0  21  21   2.86   6.19     0.462   \n",
       "524    1629690    Adam Mokoka  22.0   6   6   0.67   1.83     0.364   \n",
       "\n",
       "     NORMAL_FG_PCT  PCT_PLUSMINUS     W     L   MIN  STL  BLK  DREB  \n",
       "172          0.471         -0.011   7.0  13.0  19.6  0.7  1.0   2.8  \n",
       "300          0.452          0.013  22.0  21.0  31.8  1.1  0.3   3.6  \n",
       "380          0.458         -0.004  41.0  28.0  22.9  0.7  0.7   3.9  \n",
       "367          0.453          0.008  20.0  19.0   7.2  0.2  0.3   1.2  \n",
       "524          0.465         -0.101  28.0  13.0   6.9  0.3  0.0   1.0  "
      ]
     },
     "execution_count": 50,
     "metadata": {},
     "output_type": "execute_result"
    }
   ],
   "source": [
    "# Remove players not in both dataframes\n",
    "diff = list(set(di_df['PLAYER_ID'].tolist()) - set(dd_df['CLOSE_DEF_PERSON_ID'].tolist()))\n",
    "\n",
    "di_df = di_df[~di_df['PLAYER_ID'].isin(diff)]\n",
    "\n",
    "# Combine dataframes\n",
    "def_data = dd_df.join(di_df[di_df.columns[5:11]])\n",
    "\n",
    "# Drop unnecessary columns\n",
    "def_data.drop(columns=['PLAYER_LAST_TEAM_ID', 'PLAYER_LAST_TEAM_ABBREVIATION', 'PLAYER_POSITION', 'FREQ'], inplace=True)\n",
    "def_data.rename(columns={'CLOSE_DEF_PERSON_ID' : 'PLAYER_ID'}, inplace=True)\n",
    "\n",
    "def_data.head()"
   ]
  },
  {
   "cell_type": "markdown",
   "id": "095691ae",
   "metadata": {},
   "source": [
    "**Hustle Statistics**"
   ]
  },
  {
   "cell_type": "code",
   "execution_count": 51,
   "id": "ebe8d019",
   "metadata": {},
   "outputs": [],
   "source": [
    "r = requests.get('https://stats.nba.com/stats/leaguehustlestatsplayer?College=&Conference=&Country=&DateFrom=&DateTo=&Division=&DraftPick=&DraftYear=&GameScope=&Height=&LastNGames=0&LeagueID=00&Location=&Month=0&OpponentTeamID=0&Outcome=&PORound=0&PaceAdjust=N&PerMode=PerGame&PlayerExperience=&PlayerPosition=&PlusMinus=N&Rank=N&Season=' + season + '&SeasonSegment=&SeasonType=Regular+Season&TeamID=0&VsConference=&VsDivision=&Weight=', headers=headers, timeout=10)"
   ]
  },
  {
   "cell_type": "code",
   "execution_count": 52,
   "id": "006742c4",
   "metadata": {},
   "outputs": [
    {
     "data": {
      "text/plain": [
       "Index(['PLAYER_ID', 'PLAYER_NAME', 'AGE', 'GP', 'G', 'D_FGM', 'D_FGA',\n",
       "       'D_FG_PCT', 'NORMAL_FG_PCT', 'PCT_PLUSMINUS', 'W', 'L', 'MIN', 'STL',\n",
       "       'BLK', 'DREB', 'CONTESTED_SHOTS', 'DEFLECTIONS', 'CHARGES_DRAWN',\n",
       "       'DEF_BOXOUTS', 'PCT_BOX_OUTS_REB', 'SEASON_ID'],\n",
       "      dtype='object')"
      ]
     },
     "execution_count": 52,
     "metadata": {},
     "output_type": "execute_result"
    }
   ],
   "source": [
    "r_dict = json.loads(r.content)\n",
    "\n",
    "df = pd.DataFrame(data=r_dict['resultSets'][0]['rowSet'], columns=r_dict['resultSets'][0]['headers'])\n",
    "df.drop(columns=['TEAM_ID', 'TEAM_ABBREVIATION', 'AGE', 'G', 'MIN', 'CONTESTED_SHOTS_2PT', 'CONTESTED_SHOTS_3PT',\n",
    "                'SCREEN_AST_PTS', 'SCREEN_ASSISTS', 'OFF_LOOSE_BALLS_RECOVERED', 'DEF_LOOSE_BALLS_RECOVERED',\n",
    "                'LOOSE_BALLS_RECOVERED', 'PCT_LOOSE_BALLS_RECOVERED_OFF', 'PCT_LOOSE_BALLS_RECOVERED_DEF',\n",
    "                'OFF_BOXOUTS', 'BOX_OUTS', 'BOX_OUT_PLAYER_TEAM_REBS', 'BOX_OUT_PLAYER_REBS', 'PCT_BOX_OUTS_OFF',\n",
    "                'PCT_BOX_OUTS_DEF', 'PCT_BOX_OUTS_TEAM_REB'], inplace=True)\n",
    "\n",
    "# Remove players not in df\n",
    "diff = list(set(df['PLAYER_ID'].tolist()) - set(def_data['PLAYER_ID'].tolist()))\n",
    "df = df[~df['PLAYER_ID'].isin(diff)]\n",
    "\n",
    "df.sort_values(by='PLAYER_NAME', inplace=True)\n",
    "\n",
    "def_data = def_data.join(df[df.columns[2:]])\n",
    "def_data['SEASON_ID'] = '220' + season[2:4]\n",
    "\n",
    "def_data.columns"
   ]
  },
  {
   "cell_type": "code",
   "execution_count": 53,
   "id": "601e2d55",
   "metadata": {},
   "outputs": [],
   "source": [
    "def_data.to_csv(loc + season + '_def_stats.csv', index=False)"
   ]
  }
 ],
 "metadata": {
  "kernelspec": {
   "display_name": "Python 3 (ipykernel)",
   "language": "python",
   "name": "python3"
  },
  "language_info": {
   "codemirror_mode": {
    "name": "ipython",
    "version": 3
   },
   "file_extension": ".py",
   "mimetype": "text/x-python",
   "name": "python",
   "nbconvert_exporter": "python",
   "pygments_lexer": "ipython3",
   "version": "3.9.7"
  }
 },
 "nbformat": 4,
 "nbformat_minor": 5
}
