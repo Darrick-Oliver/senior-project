{
 "cells": [
  {
   "cell_type": "code",
   "execution_count": 2,
   "id": "573f883e",
   "metadata": {},
   "outputs": [],
   "source": [
    "import pandas as pd\n",
    "import requests\n",
    "import json"
   ]
  },
  {
   "cell_type": "code",
   "execution_count": 28,
   "id": "7bde1e18",
   "metadata": {},
   "outputs": [],
   "source": [
    "loc = 'C:\\\\Users\\\\Darrick\\\\Documents\\\\Jupyter\\\\senior-project\\\\stats\\\\player\\\\'\n",
    "player = '201939'\n",
    "season = '2016-17'\n",
    "file_name = 'scurry_' + season + '_off_stats'"
   ]
  },
  {
   "cell_type": "markdown",
   "id": "0d7bd229",
   "metadata": {},
   "source": [
    "**Request data from NBA API**\n",
    "\n",
    "Set player id and season to get specific stats"
   ]
  },
  {
   "cell_type": "code",
   "execution_count": 29,
   "id": "e90924e3",
   "metadata": {},
   "outputs": [],
   "source": [
    "headers = {\n",
    "    'Accept': 'application/json, text/plain, */*',\n",
    "    'User-Agent': 'Mozilla/5.0 (Windows NT 10.0; Win64; x64) AppleWebKit/537.36 (KHTML, like Gecko) Chrome/97.0.4692.71 Safari/537.36',\n",
    "    'x-nba-stats-origin': 'stats',\n",
    "    'Sec-Fetch-Site': 'same-site',\n",
    "    'Sec-Fetch-Mode': 'cors',\n",
    "    'Referer': 'https://www.nba.com/'\n",
    "}\n",
    "\n",
    "r = requests.get('https://stats.nba.com/stats/leagueseasonmatchups?DateFrom=&DateTo=&LeagueID=00&OffPlayerID=' + player + '&Outcome=&PORound=0&PerMode=Totals&Season=' + season + '&SeasonType=Regular+Season', headers=headers, timeout=10)"
   ]
  },
  {
   "cell_type": "markdown",
   "id": "721de225",
   "metadata": {},
   "source": [
    "**Convert to pandas dataframe**\n",
    "\n",
    "Converts the raw json to a pandas dataframe to either export as a csv file, or to use in program"
   ]
  },
  {
   "cell_type": "code",
   "execution_count": 30,
   "id": "aed92e49",
   "metadata": {},
   "outputs": [
    {
     "data": {
      "text/html": [
       "<div>\n",
       "<style scoped>\n",
       "    .dataframe tbody tr th:only-of-type {\n",
       "        vertical-align: middle;\n",
       "    }\n",
       "\n",
       "    .dataframe tbody tr th {\n",
       "        vertical-align: top;\n",
       "    }\n",
       "\n",
       "    .dataframe thead th {\n",
       "        text-align: right;\n",
       "    }\n",
       "</style>\n",
       "<table border=\"1\" class=\"dataframe\">\n",
       "  <thead>\n",
       "    <tr style=\"text-align: right;\">\n",
       "      <th></th>\n",
       "      <th>SEASON_ID</th>\n",
       "      <th>OFF_PLAYER_ID</th>\n",
       "      <th>OFF_PLAYER_NAME</th>\n",
       "      <th>DEF_PLAYER_ID</th>\n",
       "      <th>DEF_PLAYER_NAME</th>\n",
       "      <th>GP</th>\n",
       "      <th>MATCHUP_MIN</th>\n",
       "      <th>PARTIAL_POSS</th>\n",
       "      <th>PLAYER_PTS</th>\n",
       "      <th>TEAM_PTS</th>\n",
       "      <th>...</th>\n",
       "      <th>MATCHUP_FG3A</th>\n",
       "      <th>MATCHUP_FG3_PCT</th>\n",
       "      <th>HELP_BLK</th>\n",
       "      <th>HELP_FGM</th>\n",
       "      <th>HELP_FGA</th>\n",
       "      <th>HELP_FG_PERC</th>\n",
       "      <th>MATCHUP_FTM</th>\n",
       "      <th>MATCHUP_FTA</th>\n",
       "      <th>SFL</th>\n",
       "      <th>MATCHUP_TIME_SEC</th>\n",
       "    </tr>\n",
       "  </thead>\n",
       "  <tbody>\n",
       "  </tbody>\n",
       "</table>\n",
       "<p>0 rows × 27 columns</p>\n",
       "</div>"
      ],
      "text/plain": [
       "Empty DataFrame\n",
       "Columns: [SEASON_ID, OFF_PLAYER_ID, OFF_PLAYER_NAME, DEF_PLAYER_ID, DEF_PLAYER_NAME, GP, MATCHUP_MIN, PARTIAL_POSS, PLAYER_PTS, TEAM_PTS, MATCHUP_AST, MATCHUP_TOV, MATCHUP_BLK, MATCHUP_FGM, MATCHUP_FGA, MATCHUP_FG_PCT, MATCHUP_FG3M, MATCHUP_FG3A, MATCHUP_FG3_PCT, HELP_BLK, HELP_FGM, HELP_FGA, HELP_FG_PERC, MATCHUP_FTM, MATCHUP_FTA, SFL, MATCHUP_TIME_SEC]\n",
       "Index: []\n",
       "\n",
       "[0 rows x 27 columns]"
      ]
     },
     "execution_count": 30,
     "metadata": {},
     "output_type": "execute_result"
    }
   ],
   "source": [
    "r_dict = json.loads(r.content)\n",
    "\n",
    "data = r_dict['resultSets'][0]['rowSet']\n",
    "columns = r_dict['resultSets'][0]['headers']\n",
    "\n",
    "df = pd.DataFrame(data=data, columns=columns)\n",
    "df"
   ]
  },
  {
   "cell_type": "markdown",
   "id": "1fa00348",
   "metadata": {},
   "source": [
    "**Export as .csv**\n",
    "\n",
    "Run to export as a csv file"
   ]
  },
  {
   "cell_type": "code",
   "execution_count": 26,
   "id": "37a1d01a",
   "metadata": {},
   "outputs": [],
   "source": [
    "df.to_csv(loc + file_name + '.csv', index=False)"
   ]
  }
 ],
 "metadata": {
  "kernelspec": {
   "display_name": "Python 3 (ipykernel)",
   "language": "python",
   "name": "python3"
  },
  "language_info": {
   "codemirror_mode": {
    "name": "ipython",
    "version": 3
   },
   "file_extension": ".py",
   "mimetype": "text/x-python",
   "name": "python",
   "nbconvert_exporter": "python",
   "pygments_lexer": "ipython3",
   "version": "3.9.7"
  }
 },
 "nbformat": 4,
 "nbformat_minor": 5
}
