{
 "cells": [
  {
   "cell_type": "code",
   "execution_count": 1,
   "metadata": {},
   "outputs": [],
   "source": [
    "import pandas as pd\n",
    "import os"
   ]
  },
  {
   "cell_type": "code",
   "execution_count": 2,
   "metadata": {},
   "outputs": [],
   "source": [
    "loc = './stats/'\n",
    "seasons = ['2018-19', '2021-22']\n",
    "MIN_MATCHUP_MINS = 8"
   ]
  },
  {
   "cell_type": "code",
   "execution_count": 3,
   "metadata": {},
   "outputs": [],
   "source": [
    "def getIO(season):\n",
    "    # Inputs\n",
    "    def_data = pd.read_csv(loc + season + '_def_stats.csv')\n",
    "    off_data = pd.read_csv(loc + season + '_off_stats.csv')\n",
    "    # Output\n",
    "    h2h_df = pd.read_csv(loc + season + '_h2h_stats.csv')\n",
    "\n",
    "    def_data = def_data.fillna(0)\n",
    "    off_data = off_data.fillna(0)\n",
    "\n",
    "    # Get def stats only from selected defenders (rename player_id to def_player_id to merge arrays)\n",
    "    def_data = def_data.add_prefix('DEF_')\n",
    "    def_data.rename(columns={'DEF_SEASON_ID': 'SEASON_ID', 'DEF_DEF_RATING': 'DEF_RATING', \n",
    "                        'DEF_DEF_BOXOUTS': 'DEF_BOXOUTS'}, inplace=True)\n",
    "\n",
    "    # Ensure dataframes are equal length (merge defensive data first)\n",
    "    def_df = pd.merge(def_data, h2h_df[['DEF_PLAYER_ID', 'SEASON_ID']], how='inner', on=['DEF_PLAYER_ID', 'SEASON_ID'])\n",
    "    h2h_df = pd.merge(h2h_df, def_data[['DEF_PLAYER_ID', 'SEASON_ID']], how='inner', on=['DEF_PLAYER_ID', 'SEASON_ID'])\n",
    "\n",
    "    def_df.sort_values(['DEF_PLAYER_ID'], inplace=True)\n",
    "    h2h_df.sort_values(['DEF_PLAYER_ID'], inplace=True)\n",
    "\n",
    "    # Add offensive player to defensive dataframe (helps merging offensive stats)\n",
    "    def_df['OFF_PLAYER_ID'] = h2h_df['OFF_PLAYER_ID'].to_numpy()\n",
    "    def_df['OFF_PLAYER_NAME'] = h2h_df['OFF_PLAYER_NAME'].to_numpy()\n",
    "\n",
    "    def_df = def_df.reset_index(drop=True)\n",
    "    h2h_df = h2h_df.reset_index(drop=True)\n",
    "\n",
    "    # Get off stats only from selected offensive players\n",
    "    off_data = off_data.add_prefix('OFF_')\n",
    "    off_data.rename(columns={'OFF_SEASON_ID': 'SEASON_ID'}, inplace=True)\n",
    "    combine = pd.merge(def_df, off_data, how='inner', on=['OFF_PLAYER_ID', 'SEASON_ID'])\n",
    "\n",
    "    # Get correct sort\n",
    "    combine.sort_values(['DEF_PLAYER_ID', 'OFF_PLAYER_ID'], inplace=True)\n",
    "    h2h_df.sort_values(['DEF_PLAYER_ID', 'OFF_PLAYER_ID'], inplace=True)\n",
    "\n",
    "    return combine, h2h_df"
   ]
  },
  {
   "cell_type": "code",
   "execution_count": 4,
   "metadata": {},
   "outputs": [],
   "source": [
    "# Ensure directory exists\n",
    "if not os.path.exists(loc):\n",
    "    os.makedirs(loc)\n",
    "\n",
    "# Set seasons to increment over\n",
    "season = seasons[0]\n",
    "final = str(int(seasons[1][0:4]) + 1) + '-' + str(int(seasons[1][5:7]) + 1)\n",
    "\n",
    "# Initialize merge arrays\n",
    "merged_inputs = pd.DataFrame()\n",
    "merged_outputs = pd.DataFrame()\n",
    "\n",
    "while season != final:\n",
    "    inputs, outputs = getIO(season)\n",
    "\n",
    "    merged_inputs = pd.concat([inputs, merged_inputs])\n",
    "    merged_outputs = pd.concat([outputs, merged_outputs])\n",
    "\n",
    "    # Increment season\n",
    "    season = str(int(season[0:4]) + 1) + '-' + str(int(season[5:7]) + 1)\n",
    "\n",
    "# Reset indeces\n",
    "merged_inputs = merged_inputs.reset_index(drop=True)\n",
    "merged_outputs = merged_outputs.reset_index(drop=True)"
   ]
  },
  {
   "cell_type": "code",
   "execution_count": 5,
   "metadata": {},
   "outputs": [],
   "source": [
    "# Output to CSV\n",
    "merged_inputs.to_csv(loc + 'inputs.csv', index=False)\n",
    "merged_outputs.to_csv(loc + 'outputs.csv', index=False)"
   ]
  }
 ],
 "metadata": {
  "interpreter": {
   "hash": "e6cef000031243912d3568a06b590f016c7f24a49447e7a46d8dfe3749e274be"
  },
  "kernelspec": {
   "display_name": "Python 3.9.7 ('base')",
   "language": "python",
   "name": "python3"
  },
  "language_info": {
   "codemirror_mode": {
    "name": "ipython",
    "version": 3
   },
   "file_extension": ".py",
   "mimetype": "text/x-python",
   "name": "python",
   "nbconvert_exporter": "python",
   "pygments_lexer": "ipython3",
   "version": "3.9.7"
  },
  "orig_nbformat": 4
 },
 "nbformat": 4,
 "nbformat_minor": 2
}
