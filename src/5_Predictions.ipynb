{
 "cells": [
  {
   "cell_type": "code",
   "execution_count": 8,
   "metadata": {},
   "outputs": [],
   "source": [
    "from tensorflow.keras.models import load_model\n",
    "\n",
    "import pandas as pd\n",
    "import numpy as np"
   ]
  },
  {
   "cell_type": "code",
   "execution_count": 4,
   "metadata": {},
   "outputs": [],
   "source": [
    "MODEL_DIR = './models/'"
   ]
  },
  {
   "cell_type": "code",
   "execution_count": 6,
   "metadata": {},
   "outputs": [
    {
     "data": {
      "text/plain": [
       "<keras.engine.sequential.Sequential at 0x2a2c1a2dbb0>"
      ]
     },
     "execution_count": 6,
     "metadata": {},
     "output_type": "execute_result"
    }
   ],
   "source": [
    "model = load_model(MODEL_DIR + 'seq_25k')\n",
    "model"
   ]
  },
  {
   "cell_type": "code",
   "execution_count": 9,
   "metadata": {},
   "outputs": [
    {
     "name": "stdout",
     "output_type": "stream",
     "text": [
      "508    Stephen Curry\n",
      "Name: DEF_PLAYER_NAME, dtype: object\n"
     ]
    },
    {
     "name": "stderr",
     "output_type": "stream",
     "text": [
      "C:\\Users\\Darrick\\anaconda3\\lib\\site-packages\\pandas\\core\\frame.py:4906: SettingWithCopyWarning: \n",
      "A value is trying to be set on a copy of a slice from a DataFrame\n",
      "\n",
      "See the caveats in the documentation: https://pandas.pydata.org/pandas-docs/stable/user_guide/indexing.html#returning-a-view-versus-a-copy\n",
      "  return super().drop(\n"
     ]
    },
    {
     "data": {
      "text/plain": [
       "array([[25.012611]], dtype=float32)"
      ]
     },
     "execution_count": 9,
     "metadata": {},
     "output_type": "execute_result"
    }
   ],
   "source": [
    "# Predict matchup\n",
    "off_id = 201142\n",
    "def_id = 201939\n",
    "\n",
    "# Get offense stats\n",
    "data = pd.read_csv('./stats/2021-22_off_stats.csv')\n",
    "data = data.add_prefix('OFF_')\n",
    "data.rename(columns={'OFF_SEASON_ID': 'SEASON_ID'}, inplace=True)\n",
    "inputs_o = data[data['OFF_PLAYER_ID'] == off_id]\n",
    "\n",
    "# Get defensive stats\n",
    "def_data = pd.read_csv('./stats/2021-22_def_stats.csv')\n",
    "def_data = def_data.fillna(0)\n",
    "def_data = def_data.add_prefix('DEF_')\n",
    "def_data.rename(columns={'DEF_SEASON_ID': 'SEASON_ID', 'DEF_DEF_RATING': 'DEF_RATING', \n",
    "                     'DEF_DEF_BOXOUTS': 'DEF_BOXOUTS'}, inplace=True)\n",
    "inputs_d = def_data[def_data['DEF_PLAYER_ID'] == def_id]\n",
    "print(inputs_d['DEF_PLAYER_NAME'])\n",
    "\n",
    "# Get both inputs together\n",
    "inputs_o.drop(columns=['OFF_PLAYER_ID', 'OFF_PTS_PER_100'], inplace=True)\n",
    "inputs_d.drop(columns=['DEF_PLAYER_ID', 'DEF_PLAYER_NAME', 'SEASON_ID'], inplace=True)\n",
    "inputs_o.drop(columns=['OFF_POST_TOUCH_PTS', 'OFF_POST_TOUCH_FG_PCT', 'OFF_FGM', 'OFF_PTS', 'OFF_EFF_FG_PCT', 'OFF_OREB', 'OFF_PAINT_TOUCH_FGA', 'OFF_PAINT_TOUCH_FGM', 'OFF_PAINT_TOUCH_TOV', 'OFF_PAINT_TOUCH_PASSES', 'OFF_PAINT_TOUCH_PTS', 'OFF_DREB', 'OFF_FG3M', 'OFF_FTM'], inplace=True)\n",
    "inputs_d.drop(columns=['DEF_D_FGM', 'DEF_OPP_PTS_PAINT', 'DEF_CONTESTED_SHOTS_2PT', 'DEF_DEFLECTIONS', 'DEF_OPP_PTS_FB', 'DEF_OPP_PTS_2ND_CHANCE', 'DEF_OPP_PTS_OFF_TOV', 'DEF_PCT_PLUSMINUS', 'DEF_G'], inplace=True)\n",
    "\n",
    "inputs_o = inputs_o.reset_index(drop=True)\n",
    "inputs_d = inputs_d.reset_index(drop=True)\n",
    "X_predict = pd.concat([inputs_d, inputs_o], axis=1)\n",
    "\n",
    "# Normalize inputs\n",
    "X_seqtest = pd.read_csv('./stats/X.csv')\n",
    "X_seqtest.drop(columns=['OFF_POST_TOUCH_PTS', 'OFF_POST_TOUCH_FG_PCT', 'OFF_PTS'], inplace=True)\n",
    "X_seqtest = X_seqtest[X_seqtest['SEASON_ID'] == 22021]\n",
    "\n",
    "X_predict = (X_predict - X_seqtest.mean()) / X_seqtest.std()\n",
    "\n",
    "X_predict = X_predict.fillna(0)\n",
    "\n",
    "X_predict = X_predict.sort_index(axis=1)\n",
    "\n",
    "model.predict(X_predict.to_numpy())"
   ]
  },
  {
   "cell_type": "code",
   "execution_count": 10,
   "metadata": {},
   "outputs": [
    {
     "data": {
      "text/plain": [
       "41.780257704344145"
      ]
     },
     "execution_count": 10,
     "metadata": {},
     "output_type": "execute_result"
    }
   ],
   "source": [
    "test = pd.read_csv('./stats/y.csv')\n",
    "test = test[test['OFF_PLAYER_ID'] == 201939]\n",
    "test['PLAYER_PTS'].mean()"
   ]
  }
 ],
 "metadata": {
  "interpreter": {
   "hash": "e6cef000031243912d3568a06b590f016c7f24a49447e7a46d8dfe3749e274be"
  },
  "kernelspec": {
   "display_name": "Python 3.9.7 ('base')",
   "language": "python",
   "name": "python3"
  },
  "language_info": {
   "codemirror_mode": {
    "name": "ipython",
    "version": 3
   },
   "file_extension": ".py",
   "mimetype": "text/x-python",
   "name": "python",
   "nbconvert_exporter": "python",
   "pygments_lexer": "ipython3",
   "version": "3.9.7"
  },
  "orig_nbformat": 4
 },
 "nbformat": 4,
 "nbformat_minor": 2
}
