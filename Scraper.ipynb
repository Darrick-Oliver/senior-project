{
 "cells": [
  {
   "cell_type": "code",
   "execution_count": 1,
   "id": "573f883e",
   "metadata": {},
   "outputs": [],
   "source": [
    "import pandas as pd\n",
    "import requests\n",
    "import json\n",
    "from bs4 import BeautifulSoup"
   ]
  },
  {
   "cell_type": "code",
   "execution_count": 2,
   "id": "7bde1e18",
   "metadata": {},
   "outputs": [],
   "source": [
    "loc = 'C:\\\\Users\\\\picog\\\\Documents\\\\School\\\\Winter 2022\\\\senior-project\\\\stats\\\\player\\\\'\n",
    "file_name = 'dlillard_2020-21_off_stats'\n",
    "player = '203081'\n",
    "season = '2020-21'"
   ]
  },
  {
   "cell_type": "markdown",
   "id": "0d7bd229",
   "metadata": {},
   "source": [
    "**Request data from NBA API**\n",
    "\n",
    "Set player id and season to get specific stats"
   ]
  },
  {
   "cell_type": "code",
   "execution_count": 3,
   "id": "e90924e3",
   "metadata": {},
   "outputs": [],
   "source": [
    "headers = {\n",
    "    'Accept': 'application/json, text/plain, */*',\n",
    "    'User-Agent': 'Mozilla/5.0 (Windows NT 10.0; Win64; x64) AppleWebKit/537.36 (KHTML, like Gecko) Chrome/97.0.4692.71 Safari/537.36',\n",
    "    'x-nba-stats-origin': 'stats',\n",
    "    'Sec-Fetch-Site': 'same-site',\n",
    "    'Sec-Fetch-Mode': 'cors',\n",
    "    'Referer': 'https://www.nba.com/'\n",
    "}\n",
    "\n",
    "r = requests.get('https://stats.nba.com/stats/leagueseasonmatchups?DateFrom=&DateTo=&LeagueID=00&OffPlayerID=' + player + '&Outcome=&PORound=0&PerMode=Totals&Season=' + season + '&SeasonType=Regular+Season', headers=headers, timeout=10)"
   ]
  },
  {
   "cell_type": "markdown",
   "id": "721de225",
   "metadata": {},
   "source": [
    "**Convert to pandas dataframe**\n",
    "\n",
    "Converts the raw json to a pandas dataframe to either export as a csv file, or to use in program"
   ]
  },
  {
   "cell_type": "code",
   "execution_count": 4,
   "id": "aed92e49",
   "metadata": {},
   "outputs": [],
   "source": [
    "r_dict = json.loads(r.content)\n",
    "\n",
    "data = r_dict['resultSets'][0]['rowSet']\n",
    "columns = r_dict['resultSets'][0]['headers']\n",
    "\n",
    "df = pd.DataFrame(data=data, columns=columns)"
   ]
  },
  {
   "cell_type": "markdown",
   "id": "1fa00348",
   "metadata": {},
   "source": [
    "**Export as .csv**\n",
    "\n",
    "Run to export as a csv file"
   ]
  },
  {
   "cell_type": "code",
   "execution_count": 5,
   "id": "37a1d01a",
   "metadata": {},
   "outputs": [],
   "source": [
    "df.to_csv(loc + file_name + '.csv', index=False)"
   ]
  }
 ],
 "metadata": {
  "kernelspec": {
   "display_name": "Python 3",
   "language": "python",
   "name": "python3"
  },
  "language_info": {
   "codemirror_mode": {
    "name": "ipython",
    "version": 3
   },
   "file_extension": ".py",
   "mimetype": "text/x-python",
   "name": "python",
   "nbconvert_exporter": "python",
   "pygments_lexer": "ipython3",
   "version": "3.8.8"
  }
 },
 "nbformat": 4,
 "nbformat_minor": 5
}
